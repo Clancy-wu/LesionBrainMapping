{
 "cells": [
  {
   "cell_type": "code",
   "execution_count": 15,
   "id": "e19eda52",
   "metadata": {},
   "outputs": [],
   "source": [
    "##Packages:\n",
    "import sys\n",
    "import string\n",
    "import os\n",
    "import glob\n",
    "import math\n",
    "import numpy as np \n",
    "import hdf5storage as hdf\n",
    "import scipy as sp\n",
    "import pandas as pd\n",
    "import nilearn\n",
    "import nibabel as nb\n",
    "from nilearn import plotting, image, masking, regions, datasets\n",
    "import io\n",
    "import time\n",
    "import subprocess\n",
    "import sys\n",
    "import natsort\n",
    "import pyxnat\n",
    "from pyxnat import Interface\n",
    "\n",
    "import matplotlib.pyplot as plt\n",
    "import matplotlib.gridspec as gridspec\n",
    "import matplotlib.colors as mcolors\n",
    "import matplotlib.image as mpimg\n",
    "from termcolor import colored, cprint\n",
    "import multiprocessing\n",
    "\n",
    "from time import time\n",
    "from random import random\n",
    "\n",
    "## nimlab package is hosted internally on the M Falcon\n",
    "#from nimlab.functions import *\n",
    "from nimlab.software import *\n",
    "#from nimlab.xnat_functions import *\n",
    "\n",
    "## Environment:\n",
    "\n",
    "MNI_brain_mask=datasets.load_mni152_brain_mask()\n",
    "MNI_nonbrain_mask=image.math_img(\"-img+1\", img=MNI_brain_mask)"
   ]
  },
  {
   "cell_type": "code",
   "execution_count": 16,
   "id": "69afd34a",
   "metadata": {},
   "outputs": [],
   "source": [
    "\n",
    "#input_folder='/data2/jupyter/notebooks/lsoussan/forge2/Caen/Caen_group1/test_lessions/'\n",
    "input_folder='/home/clancy/data/LesionBrainMapping/ROIs/'\n",
    "PROJECT_NAME_FOR_XNAT=''\n",
    "\n",
    "preprocess_folder = '/home/clancy/data/LesionBrainMapping/test_kang/'\n",
    "\n",
    "lesion_files=glob.glob(input_folder+'/*nii.gz')\n",
    "lesion_files\n",
    "\n",
    "# Create Preprocessing folder\n",
    "if preprocess_folder:    \n",
    "    if not os.path.exists(preprocess_folder+'Originals/'):\n",
    "        os.makedirs(preprocess_folder+'Originals/')\n",
    "        #final ROIs (not lesions)\n",
    "    if not os.path.exists(preprocess_folder+'Lesions/'):\n",
    "        os.makedirs(preprocess_folder+'Lesions/')\n",
    "        #Analyses: empty subfolder for subsequent analyses\n",
    "    if not os.path.exists(preprocess_folder+'Functional_Connectivity/'):\n",
    "        os.makedirs(preprocess_folder+'Functional_Connectivity/')\n",
    "    if not os.path.exists(preprocess_folder+'Connectome/'):\n",
    "        os.makedirs(preprocess_folder+'Connectome/')\n",
    "else:\n",
    "    preprocess_folder=os.getcwd()+'/Preprocessing'\n",
    "    if not os.path.exists('./Preprocessing'):\n",
    "        os.makedirs('./Preprocessing')\n",
    "        os.makedirs('./Preprocessing/Originals')\n",
    "        os.makedirs('./Preprocessing/Lesions')\n",
    "        os.makedirs('./Preprocessing/Functional_Connectivity')\n",
    "        os.makedirs('./Preprocessing/Connectome')"
   ]
  },
  {
   "cell_type": "markdown",
   "id": "33d3978b",
   "metadata": {},
   "source": [
    "# Standardizing the lesions: "
   ]
  },
  {
   "cell_type": "code",
   "execution_count": 18,
   "id": "6af1f97c",
   "metadata": {},
   "outputs": [
    {
     "name": "stdout",
     "output_type": "stream",
     "text": [
      "Reslicing to FSL MNI 2mm Template and binarizing sub001_ROI-1.nii.gz\n",
      "Image Exception : #63 :: No image files match: /usr/share/fsl/5.0/data/standard/MNI152_T1_2mm\n",
      "Image Exception : #22 :: Failed to read volume /usr/share/fsl/5.0/data/standard/MNI152_T1_2mm.nii.gz\n",
      "Error : No image files match: /usr/share/fsl/5.0/data/standard/MNI152_T1_2mm\n",
      "Failed to read volume /usr/share/fsl/5.0/data/standard/MNI152_T1_2mm.nii.gz\n",
      "Error : No image files match: /usr/share/fsl/5.0/data/standard/MNI152_T1_2mm\n",
      "Image Exception : #63 :: No image files match: /home/clancy/data/LesionBrainMapping/test_kang//Lesions/sub001_lesion\n",
      "terminate called after throwing an instance of 'std::runtime_error'\n",
      "  what():  No image files match: /home/clancy/data/LesionBrainMapping/test_kang//Lesions/sub001_lesion\n",
      "Reslicing to FSL MNI 2mm Template and binarizing sub002_ROI-2.nii.gz\n",
      "Image Exception : #63 :: No image files match: /usr/share/fsl/5.0/data/standard/MNI152_T1_2mm\n",
      "Image Exception : #22 :: Failed to read volume /usr/share/fsl/5.0/data/standard/MNI152_T1_2mm.nii.gz\n",
      "Error : No image files match: /usr/share/fsl/5.0/data/standard/MNI152_T1_2mm\n",
      "Failed to read volume /usr/share/fsl/5.0/data/standard/MNI152_T1_2mm.nii.gz\n",
      "Error : No image files match: /usr/share/fsl/5.0/data/standard/MNI152_T1_2mm\n",
      "Image Exception : #63 :: No image files match: /home/clancy/data/LesionBrainMapping/test_kang//Lesions/sub002_lesion\n",
      "terminate called after throwing an instance of 'std::runtime_error'\n",
      "  what():  No image files match: /home/clancy/data/LesionBrainMapping/test_kang//Lesions/sub002_lesion\n"
     ]
    }
   ],
   "source": [
    "new_lesion_files = []\n",
    "subjects_list = []\n",
    "filenames_list=[]\n",
    "#lcs=longest_common_suffix(lesion_files)\n",
    "import re\n",
    "import shutil\n",
    "#Warning: lesion filenames should not have \".\" in them aside from designating extension\n",
    "\n",
    "for i in lesion_files:\n",
    "    shutil.copyfile(i, preprocess_folder + '/Originals/' + i.split('/')[-1])\n",
    "    filename = os.path.basename(i)\n",
    "    filenames_list.append(filename)\n",
    "    filepath = os.path.dirname(i)\n",
    "    #subject_name = filename.split(lcs)[0]\n",
    "    subject_name = re.findall(r'(sub\\d+)_', filename)[0]\n",
    "    subjects_list.append(subject_name)\n",
    "    preprocess_filename = subject_name + '_lesion.nii.gz'\n",
    "    new_filepath =  preprocess_folder + '/Lesions/' + preprocess_filename\n",
    "    new_lesion_files.append(new_filepath)\n",
    "    # print subject_name\n",
    "    print('Reslicing to FSL MNI 2mm Template and binarizing ' + filename)\n",
    "    \n",
    "    !flirt -in $i -ref /usr/share/fsl/5.0/data/standard/MNI152_T1_2mm.nii.gz -datatype float -interp spline -applyxfm -usesqform -out $new_filepath\n",
    "    \n",
    "    !fslmaths $new_filepath -thr 0.25 -bin $new_filepath -odt short"
   ]
  },
  {
   "cell_type": "code",
   "execution_count": null,
   "id": "4651c619",
   "metadata": {},
   "outputs": [],
   "source": []
  }
 ],
 "metadata": {
  "kernelspec": {
   "display_name": "Python3 (nimlab)",
   "language": "python",
   "name": "nimlab"
  },
  "language_info": {
   "codemirror_mode": {
    "name": "ipython",
    "version": 3
   },
   "file_extension": ".py",
   "mimetype": "text/x-python",
   "name": "python",
   "nbconvert_exporter": "python",
   "pygments_lexer": "ipython3",
   "version": "3.10.13"
  }
 },
 "nbformat": 4,
 "nbformat_minor": 5
}
